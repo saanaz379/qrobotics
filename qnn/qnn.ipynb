{
 "cells": [
  {
   "cell_type": "markdown",
   "metadata": {},
   "source": [
    "##quantum approximate q-learning with pqcs##\n",
    "\n",
    "deep q-learning --> quantum version\n",
    "- approximate the optimal state-action pair Q*(s, a)\n",
    "- uses deep neural network, here named deep q-network (dqn)\n",
    "- substitute deep neural network with quantum parametric circuit\n",
    "- nn in qiskit-machine-learning, eval gradients in torch, cartpole env in gymnasium"
   ]
  },
  {
   "cell_type": "code",
   "execution_count": 1,
   "metadata": {},
   "outputs": [],
   "source": [
    "# general imports\n",
    "import numpy as np\n",
    "import matplotlib.pyplot as plt\n",
    "\n",
    "# qiskit circuit imports\n",
    "from qiskit.circuit import QuantumCircuit, QuantumRegister, Parameter, ParameterVector, ParameterExpression\n",
    "from qiskit.circuit.library import TwoLocal\n",
    "\n",
    "# qiskit imports\n",
    "import qiskit as qk\n",
    "# from qiskit.utils import QuantumInstance # replace w https://docs.quantum.ibm.com/migration-guides/qiskit-quantum-instance\n",
    "\n",
    "# qiskit machine learning imports https://medium.com/qiskit/introducing-qiskit-machine-learning-0-6-25186b57bf97\n",
    "# import qiskit_machine_learning as qkml\n",
    "# from qiskit_machine_learning.neural_networks import CircuitQNN\n",
    "# from qiskit_machine_learning.connectors import TorchConnector\n",
    "\n",
    "# pytorch imports\n",
    "import torch\n",
    "from torch import Tensor\n",
    "from torch.nn import MSELoss\n",
    "from torch.optim import LBFGS, SGD, Adam, RMSprop\n",
    "\n",
    "# OpenAI Gym import\n",
    "import gymnasium as gym\n",
    "\n",
    "# Fix seed for reproducibility\n",
    "seed = 42\n",
    "np.random.seed(seed)\n",
    "torch.manual_seed(seed)\n",
    "\n",
    "# to get smooth animations on jupyter notebooks\n",
    "# note: these plotting functions are taken from https://github.com/ageron/handson-ml2\n",
    "import matplotlib as mpl\n",
    "import matplotlib.animation as animation\n",
    "mpl.rc('animation', html='jshtml')\n",
    "\n",
    "def update_scene(num, frames, patch):\n",
    "    patch.set_data(frames[num])\n",
    "    return patch,\n",
    "\n",
    "def plot_animation(frames, repeat=False, interval=40):\n",
    "    fig = plt.figure()\n",
    "    patch = plt.imshow(frames[0])\n",
    "    plt.axis('off')\n",
    "    anim = animation.FuncAnimation(\n",
    "        fig, update_scene, fargs=(frames, patch),\n",
    "        frames=len(frames), repeat=repeat, interval=interval)\n",
    "    plt.close()\n",
    "    return anim"
   ]
  },
  {
   "cell_type": "markdown",
   "metadata": {},
   "source": [
    "choose 2 circuits\n",
    "1. encoding_circuit: encoding method for classical data\n",
    "- state variables of cartpole [a, b, c, d]\n",
    "- |0000> ===> use rx rotations\n",
    "2. parametrized_circuit: parametrized variational circuit\n",
    "- variational ansatz:\n",
    "- repeated structure of ry and rz rotations\n",
    "- circular entangled scheme of cz gates\n",
    "- choices:\n",
    "- choose number of repetitions (layers)\n",
    "- y/n data reuploading at start of each layer"
   ]
  },
  {
   "cell_type": "code",
   "execution_count": 2,
   "metadata": {},
   "outputs": [],
   "source": [
    "def encoding_circuit(inputs, num_qubits = 4, *args):\n",
    "    qc = qk.QuantumCircuit(num_qubits)\n",
    "    for i in range(len(inputs)):\n",
    "        qc.rx(inputs[i], i)\n",
    "    return qc\n",
    "\n",
    "def parametrized_circuit(num_qubits = 4, reuploading = False, reps = 2, insert_barriers = True, meas = False):\n",
    "    qr = qk.QuantumRegister(num_qubits, 'qr')\n",
    "    qc = qk.QuantumCircuit(qr)\n",
    "\n",
    "    if meas:\n",
    "        qr = qk.QuantumRegister(num_qubits, 'qr')\n",
    "        cr = qk.ClassicalRegister(num_qubits, 'cr')\n",
    "        qc = qk.QuantumCircuit(qr, cr)\n",
    "\n",
    "    if not reuploading:\n",
    "        # encoding\n",
    "        inputs = qk.circuit.ParameterVector('x', num_qubits)\n",
    "        qc.compose(encoding_circuit(inputs, num_qubits=num_qubits), inplace=True)\n",
    "        if insert_barriers: qc.barrier()\n",
    "\n",
    "        # variational ansatz\n",
    "        qc.compose(TwoLocal(num_qubits, \n",
    "                            ['ry', 'rz'], \n",
    "                            'cz', \n",
    "                            'circular',\n",
    "                            reps=reps,\n",
    "                            insert_barriers=insert_barriers,\n",
    "                            skip_final_rotation_layer=True), inplace = True)\n",
    "        if insert_barriers: qc.barrier()\n",
    "\n",
    "        # measure\n",
    "        if meas: qc.measure(qr, cr)\n",
    "\n",
    "    elif reuploading:\n",
    "        inputs = qk.circuit.ParameterVector('x', num_qubits)\n",
    "        θ = qk.circuit.ParameterVector('θ', 2 * num_qubits * reps)\n",
    "        for rep in range(reps):\n",
    "\n",
    "            # encoding\n",
    "            qc.compose(encoding_circuit(inputs, num_qubits=num_qubits), inplace = True)\n",
    "            if insert_barriers: qc.barrier()\n",
    "\n",
    "            # variational ansatz\n",
    "            for qubit in range(num_qubits):\n",
    "                qc.ry(θ[qubit + 2 * num_qubits * rep], qubit)\n",
    "                qc.rz(θ[qubit + 2 * num_qubits * rep + num_qubits], qubit)\n",
    "            if insert_barriers: qc.barrier()\n",
    "            qc.cz(qr[-1], qr[0])\n",
    "            for qubit in range(num_qubits - 1):\n",
    "                qc.cz(qr[qubit], qr[qubit + 1])\n",
    "            if insert_barriers: qc.barrier()\n",
    "\n",
    "        # measure\n",
    "        if meas: qc.measure(qr, cr)\n",
    "\n",
    "    return qc"
   ]
  },
  {
   "cell_type": "code",
   "execution_count": 3,
   "metadata": {},
   "outputs": [
    {
     "data": {
      "text/html": [
       "<pre style=\"word-wrap: normal;white-space: pre;background: #fff0;line-height: 1.1;font-family: &quot;Courier New&quot;,Courier,monospace\">      ┌──────────┐ ░ ┌──────────┐┌──────────┐ ░              ░ ┌──────────┐ ░ »\n",
       "qr_0: ┤ Rx(x[0]) ├─░─┤ Ry(θ[0]) ├┤ Rz(θ[4]) ├─░──■──■────────░─┤ Rx(x[0]) ├─░─»\n",
       "      ├──────────┤ ░ ├──────────┤├──────────┤ ░  │  │        ░ ├──────────┤ ░ »\n",
       "qr_1: ┤ Rx(x[1]) ├─░─┤ Ry(θ[1]) ├┤ Rz(θ[5]) ├─░──┼──■──■─────░─┤ Rx(x[1]) ├─░─»\n",
       "      ├──────────┤ ░ ├──────────┤├──────────┤ ░  │     │     ░ ├──────────┤ ░ »\n",
       "qr_2: ┤ Rx(x[2]) ├─░─┤ Ry(θ[2]) ├┤ Rz(θ[6]) ├─░──┼─────■──■──░─┤ Rx(x[2]) ├─░─»\n",
       "      ├──────────┤ ░ ├──────────┤├──────────┤ ░  │        │  ░ ├──────────┤ ░ »\n",
       "qr_3: ┤ Rx(x[3]) ├─░─┤ Ry(θ[3]) ├┤ Rz(θ[7]) ├─░──■────────■──░─┤ Rx(x[3]) ├─░─»\n",
       "      └──────────┘ ░ └──────────┘└──────────┘ ░              ░ └──────────┘ ░ »\n",
       "«       ┌──────────┐┌───────────┐ ░              ░ ┌──────────┐ ░ ┌───────────┐»\n",
       "«qr_0: ─┤ Ry(θ[8]) ├┤ Rz(θ[12]) ├─░──■──■────────░─┤ Rx(x[0]) ├─░─┤ Ry(θ[16]) ├»\n",
       "«       ├──────────┤├───────────┤ ░  │  │        ░ ├──────────┤ ░ ├───────────┤»\n",
       "«qr_1: ─┤ Ry(θ[9]) ├┤ Rz(θ[13]) ├─░──┼──■──■─────░─┤ Rx(x[1]) ├─░─┤ Ry(θ[17]) ├»\n",
       "«      ┌┴──────────┤├───────────┤ ░  │     │     ░ ├──────────┤ ░ ├───────────┤»\n",
       "«qr_2: ┤ Ry(θ[10]) ├┤ Rz(θ[14]) ├─░──┼─────■──■──░─┤ Rx(x[2]) ├─░─┤ Ry(θ[18]) ├»\n",
       "«      ├───────────┤├───────────┤ ░  │        │  ░ ├──────────┤ ░ ├───────────┤»\n",
       "«qr_3: ┤ Ry(θ[11]) ├┤ Rz(θ[15]) ├─░──■────────■──░─┤ Rx(x[3]) ├─░─┤ Ry(θ[19]) ├»\n",
       "«      └───────────┘└───────────┘ ░              ░ └──────────┘ ░ └───────────┘»\n",
       "«      ┌───────────┐ ░              ░ ┌──────────┐ ░ ┌───────────┐┌───────────┐»\n",
       "«qr_0: ┤ Rz(θ[20]) ├─░──■──■────────░─┤ Rx(x[0]) ├─░─┤ Ry(θ[24]) ├┤ Rz(θ[28]) ├»\n",
       "«      ├───────────┤ ░  │  │        ░ ├──────────┤ ░ ├───────────┤├───────────┤»\n",
       "«qr_1: ┤ Rz(θ[21]) ├─░──┼──■──■─────░─┤ Rx(x[1]) ├─░─┤ Ry(θ[25]) ├┤ Rz(θ[29]) ├»\n",
       "«      ├───────────┤ ░  │     │     ░ ├──────────┤ ░ ├───────────┤├───────────┤»\n",
       "«qr_2: ┤ Rz(θ[22]) ├─░──┼─────■──■──░─┤ Rx(x[2]) ├─░─┤ Ry(θ[26]) ├┤ Rz(θ[30]) ├»\n",
       "«      ├───────────┤ ░  │        │  ░ ├──────────┤ ░ ├───────────┤├───────────┤»\n",
       "«qr_3: ┤ Rz(θ[23]) ├─░──■────────■──░─┤ Rx(x[3]) ├─░─┤ Ry(θ[27]) ├┤ Rz(θ[31]) ├»\n",
       "«      └───────────┘ ░              ░ └──────────┘ ░ └───────────┘└───────────┘»\n",
       "«       ░              ░ ┌──────────┐ ░ ┌───────────┐┌───────────┐ ░          »\n",
       "«qr_0: ─░──■──■────────░─┤ Rx(x[0]) ├─░─┤ Ry(θ[32]) ├┤ Rz(θ[36]) ├─░──■──■────»\n",
       "«       ░  │  │        ░ ├──────────┤ ░ ├───────────┤├───────────┤ ░  │  │    »\n",
       "«qr_1: ─░──┼──■──■─────░─┤ Rx(x[1]) ├─░─┤ Ry(θ[33]) ├┤ Rz(θ[37]) ├─░──┼──■──■─»\n",
       "«       ░  │     │     ░ ├──────────┤ ░ ├───────────┤├───────────┤ ░  │     │ »\n",
       "«qr_2: ─░──┼─────■──■──░─┤ Rx(x[2]) ├─░─┤ Ry(θ[34]) ├┤ Rz(θ[38]) ├─░──┼─────■─»\n",
       "«       ░  │        │  ░ ├──────────┤ ░ ├───────────┤├───────────┤ ░  │       »\n",
       "«qr_3: ─░──■────────■──░─┤ Rx(x[3]) ├─░─┤ Ry(θ[35]) ├┤ Rz(θ[39]) ├─░──■───────»\n",
       "«       ░              ░ └──────────┘ ░ └───────────┘└───────────┘ ░          »\n",
       "«          ░ ┌──────────┐ ░ ┌───────────┐┌───────────┐ ░              ░ \n",
       "«qr_0: ────░─┤ Rx(x[0]) ├─░─┤ Ry(θ[40]) ├┤ Rz(θ[44]) ├─░──■──■────────░─\n",
       "«          ░ ├──────────┤ ░ ├───────────┤├───────────┤ ░  │  │        ░ \n",
       "«qr_1: ────░─┤ Rx(x[1]) ├─░─┤ Ry(θ[41]) ├┤ Rz(θ[45]) ├─░──┼──■──■─────░─\n",
       "«          ░ ├──────────┤ ░ ├───────────┤├───────────┤ ░  │     │     ░ \n",
       "«qr_2: ─■──░─┤ Rx(x[2]) ├─░─┤ Ry(θ[42]) ├┤ Rz(θ[46]) ├─░──┼─────■──■──░─\n",
       "«       │  ░ ├──────────┤ ░ ├───────────┤├───────────┤ ░  │        │  ░ \n",
       "«qr_3: ─■──░─┤ Rx(x[3]) ├─░─┤ Ry(θ[43]) ├┤ Rz(θ[47]) ├─░──■────────■──░─\n",
       "«          ░ └──────────┘ ░ └───────────┘└───────────┘ ░              ░ </pre>"
      ],
      "text/plain": [
       "      ┌──────────┐ ░ ┌──────────┐┌──────────┐ ░              ░ ┌──────────┐ ░ »\n",
       "qr_0: ┤ Rx(x[0]) ├─░─┤ Ry(θ[0]) ├┤ Rz(θ[4]) ├─░──■──■────────░─┤ Rx(x[0]) ├─░─»\n",
       "      ├──────────┤ ░ ├──────────┤├──────────┤ ░  │  │        ░ ├──────────┤ ░ »\n",
       "qr_1: ┤ Rx(x[1]) ├─░─┤ Ry(θ[1]) ├┤ Rz(θ[5]) ├─░──┼──■──■─────░─┤ Rx(x[1]) ├─░─»\n",
       "      ├──────────┤ ░ ├──────────┤├──────────┤ ░  │     │     ░ ├──────────┤ ░ »\n",
       "qr_2: ┤ Rx(x[2]) ├─░─┤ Ry(θ[2]) ├┤ Rz(θ[6]) ├─░──┼─────■──■──░─┤ Rx(x[2]) ├─░─»\n",
       "      ├──────────┤ ░ ├──────────┤├──────────┤ ░  │        │  ░ ├──────────┤ ░ »\n",
       "qr_3: ┤ Rx(x[3]) ├─░─┤ Ry(θ[3]) ├┤ Rz(θ[7]) ├─░──■────────■──░─┤ Rx(x[3]) ├─░─»\n",
       "      └──────────┘ ░ └──────────┘└──────────┘ ░              ░ └──────────┘ ░ »\n",
       "«       ┌──────────┐┌───────────┐ ░              ░ ┌──────────┐ ░ ┌───────────┐»\n",
       "«qr_0: ─┤ Ry(θ[8]) ├┤ Rz(θ[12]) ├─░──■──■────────░─┤ Rx(x[0]) ├─░─┤ Ry(θ[16]) ├»\n",
       "«       ├──────────┤├───────────┤ ░  │  │        ░ ├──────────┤ ░ ├───────────┤»\n",
       "«qr_1: ─┤ Ry(θ[9]) ├┤ Rz(θ[13]) ├─░──┼──■──■─────░─┤ Rx(x[1]) ├─░─┤ Ry(θ[17]) ├»\n",
       "«      ┌┴──────────┤├───────────┤ ░  │     │     ░ ├──────────┤ ░ ├───────────┤»\n",
       "«qr_2: ┤ Ry(θ[10]) ├┤ Rz(θ[14]) ├─░──┼─────■──■──░─┤ Rx(x[2]) ├─░─┤ Ry(θ[18]) ├»\n",
       "«      ├───────────┤├───────────┤ ░  │        │  ░ ├──────────┤ ░ ├───────────┤»\n",
       "«qr_3: ┤ Ry(θ[11]) ├┤ Rz(θ[15]) ├─░──■────────■──░─┤ Rx(x[3]) ├─░─┤ Ry(θ[19]) ├»\n",
       "«      └───────────┘└───────────┘ ░              ░ └──────────┘ ░ └───────────┘»\n",
       "«      ┌───────────┐ ░              ░ ┌──────────┐ ░ ┌───────────┐┌───────────┐»\n",
       "«qr_0: ┤ Rz(θ[20]) ├─░──■──■────────░─┤ Rx(x[0]) ├─░─┤ Ry(θ[24]) ├┤ Rz(θ[28]) ├»\n",
       "«      ├───────────┤ ░  │  │        ░ ├──────────┤ ░ ├───────────┤├───────────┤»\n",
       "«qr_1: ┤ Rz(θ[21]) ├─░──┼──■──■─────░─┤ Rx(x[1]) ├─░─┤ Ry(θ[25]) ├┤ Rz(θ[29]) ├»\n",
       "«      ├───────────┤ ░  │     │     ░ ├──────────┤ ░ ├───────────┤├───────────┤»\n",
       "«qr_2: ┤ Rz(θ[22]) ├─░──┼─────■──■──░─┤ Rx(x[2]) ├─░─┤ Ry(θ[26]) ├┤ Rz(θ[30]) ├»\n",
       "«      ├───────────┤ ░  │        │  ░ ├──────────┤ ░ ├───────────┤├───────────┤»\n",
       "«qr_3: ┤ Rz(θ[23]) ├─░──■────────■──░─┤ Rx(x[3]) ├─░─┤ Ry(θ[27]) ├┤ Rz(θ[31]) ├»\n",
       "«      └───────────┘ ░              ░ └──────────┘ ░ └───────────┘└───────────┘»\n",
       "«       ░              ░ ┌──────────┐ ░ ┌───────────┐┌───────────┐ ░          »\n",
       "«qr_0: ─░──■──■────────░─┤ Rx(x[0]) ├─░─┤ Ry(θ[32]) ├┤ Rz(θ[36]) ├─░──■──■────»\n",
       "«       ░  │  │        ░ ├──────────┤ ░ ├───────────┤├───────────┤ ░  │  │    »\n",
       "«qr_1: ─░──┼──■──■─────░─┤ Rx(x[1]) ├─░─┤ Ry(θ[33]) ├┤ Rz(θ[37]) ├─░──┼──■──■─»\n",
       "«       ░  │     │     ░ ├──────────┤ ░ ├───────────┤├───────────┤ ░  │     │ »\n",
       "«qr_2: ─░──┼─────■──■──░─┤ Rx(x[2]) ├─░─┤ Ry(θ[34]) ├┤ Rz(θ[38]) ├─░──┼─────■─»\n",
       "«       ░  │        │  ░ ├──────────┤ ░ ├───────────┤├───────────┤ ░  │       »\n",
       "«qr_3: ─░──■────────■──░─┤ Rx(x[3]) ├─░─┤ Ry(θ[35]) ├┤ Rz(θ[39]) ├─░──■───────»\n",
       "«       ░              ░ └──────────┘ ░ └───────────┘└───────────┘ ░          »\n",
       "«          ░ ┌──────────┐ ░ ┌───────────┐┌───────────┐ ░              ░ \n",
       "«qr_0: ────░─┤ Rx(x[0]) ├─░─┤ Ry(θ[40]) ├┤ Rz(θ[44]) ├─░──■──■────────░─\n",
       "«          ░ ├──────────┤ ░ ├───────────┤├───────────┤ ░  │  │        ░ \n",
       "«qr_1: ────░─┤ Rx(x[1]) ├─░─┤ Ry(θ[41]) ├┤ Rz(θ[45]) ├─░──┼──■──■─────░─\n",
       "«          ░ ├──────────┤ ░ ├───────────┤├───────────┤ ░  │     │     ░ \n",
       "«qr_2: ─■──░─┤ Rx(x[2]) ├─░─┤ Ry(θ[42]) ├┤ Rz(θ[46]) ├─░──┼─────■──■──░─\n",
       "«       │  ░ ├──────────┤ ░ ├───────────┤├───────────┤ ░  │        │  ░ \n",
       "«qr_3: ─■──░─┤ Rx(x[3]) ├─░─┤ Ry(θ[43]) ├┤ Rz(θ[47]) ├─░──■────────■──░─\n",
       "«          ░ └──────────┘ ░ └───────────┘└───────────┘ ░              ░ "
      ]
     },
     "execution_count": 3,
     "metadata": {},
     "output_type": "execute_result"
    }
   ],
   "source": [
    "num_qubits = 4\n",
    "qc = parametrized_circuit(num_qubits = num_qubits,\n",
    "                          reuploading = True,\n",
    "                          reps = 6)\n",
    "X = list(qc.parameters)[: num_qubits]\n",
    "params = list(qc.parameters)[num_qubits:]\n",
    "qc.draw()"
   ]
  },
  {
   "cell_type": "code",
   "execution_count": 4,
   "metadata": {},
   "outputs": [],
   "source": [
    "from qiskit.providers.basic_provider import BasicSimulator\n",
    "# qiskit-machine-learning modules\n",
    "from qiskit_machine_learning.neural_networks import EstimatorQNN\n",
    "from qiskit.primitives import StatevectorEstimator\n",
    "from qiskit_machine_learning.connectors import TorchConnector\n",
    "estimator = StatevectorEstimator()\n",
    "\n",
    "backend = BasicSimulator()\n",
    "\n",
    "qnn = EstimatorQNN(circuit = qc,\n",
    "                   estimator = estimator,\n",
    "                   input_params = X,\n",
    "                   weight_params = params)\n",
    "\n",
    "initial_weights = (2 * np.random.rand(qnn.num_weights) - 1)\n",
    "quantum_nn = TorchConnector(qnn, initial_weights)\n"
   ]
  },
  {
   "cell_type": "markdown",
   "metadata": {},
   "source": [
    "classical pre and post processing layers\n",
    "\n",
    "encoding_layer (diff from encoding_circuit)\n",
    "- arctan(classical inputs . trainable parameters)\n",
    "\n",
    "exp_val_layer (output of q circ (prob of |0000>, ... |1111>) -> expectation values <Z_0 Z_1> and <Z_2 Z_3> rewards Q(s, a) of a = left or right"
   ]
  },
  {
   "cell_type": "code",
   "execution_count": 5,
   "metadata": {},
   "outputs": [],
   "source": [
    "class encoding_layer(torch.nn.Module):\n",
    "    def __init__(self, num_qubits = 4):\n",
    "        super().__init__()\n",
    "        weights = torch.Tensor(num_qubits)\n",
    "        self.weights = torch.nn.Parameter(weights)\n",
    "        torch.nn.init.uniform_(self.weights, -1, 1)\n",
    "    \n",
    "    def forward(self, x):\n",
    "        if not isinstance(x, Tensor):\n",
    "            x = Tensor(x)\n",
    "        x = self.weights * x\n",
    "        x = torch.atan(x)\n",
    "        return x"
   ]
  },
  {
   "cell_type": "code",
   "execution_count": 6,
   "metadata": {},
   "outputs": [],
   "source": [
    "class exp_val_layer(torch.nn.Module):\n",
    "    def __init__(self, action_space = 2):\n",
    "        super().__init__()\n",
    "        weights = torch.Tensor(action_space)\n",
    "        self.weights = torch.nn.Parameter(weights)\n",
    "        torch.nn.init.uniform_(self.weights, 35, 40)\n",
    "        self.mask_ZZ_12 = torch.tensor([1.,-1.,-1.,1.,1.,-1.,-1.,1.,1.,-1.,-1.,1.,1.,-1.,-1.,1.], requires_grad = False)\n",
    "        self.mask_ZZ_34 = torch.tensor([-1.,-1.,-1.,-1.,1.,1.,1.,1.,-1.,-1.,-1.,-1.,1.,1.,1.,1.], requires_grad = False)\n",
    "    def forward(self, x):\n",
    "        expval_ZZ_12 = self.mask_ZZ_12 * x\n",
    "        expval_ZZ_34 = self.mask_ZZ_34 * x \n",
    "        if len(x.shape) == 1:\n",
    "            expval_ZZ_12 = torch.sum(expval_ZZ_12)\n",
    "            expval_ZZ_34 = torch.sum(expval_ZZ_34)\n",
    "            out = torch.cat((expval_ZZ_12.unsqueeze(0), expval_ZZ_34.unsqueeze(0)))\n",
    "        else:\n",
    "            expval_ZZ_12 = torch.sum(expval_ZZ_12)\n",
    "            expval_ZZ_34 = torch.sum(expval_ZZ_34)\n",
    "            out = torch.cat((expval_ZZ_12.unsqueeze(0), expval_ZZ_34.unsqueeze(0)))\n",
    "        return self.weights * ((out + 1.) / 2.)"
   ]
  },
  {
   "cell_type": "code",
   "execution_count": 7,
   "metadata": {},
   "outputs": [
    {
     "data": {
      "text/plain": [
       "OrderedDict([('0.weights', tensor([ 0.7645,  0.8300, -0.2343,  0.9186])),\n",
       "             ('1.weight',\n",
       "              tensor([-0.2509,  0.9014,  0.4640,  0.1973, -0.6880, -0.6880, -0.8838,  0.7324,\n",
       "                       0.2022,  0.4161, -0.9588,  0.9398,  0.6649, -0.5753, -0.6364, -0.6332,\n",
       "                      -0.3915,  0.0495, -0.1361, -0.4175,  0.2237, -0.7210, -0.4157, -0.2673,\n",
       "                      -0.0879,  0.5704, -0.6007,  0.0285,  0.1848, -0.9071,  0.2151, -0.6590,\n",
       "                      -0.8699,  0.8978,  0.9313,  0.6168, -0.3908, -0.8047,  0.3685, -0.1197,\n",
       "                      -0.7559, -0.0096, -0.9312,  0.8186, -0.4824,  0.3250, -0.3766,  0.0401])),\n",
       "             ('1._weights',\n",
       "              tensor([-0.2509,  0.9014,  0.4640,  0.1973, -0.6880, -0.6880, -0.8838,  0.7324,\n",
       "                       0.2022,  0.4161, -0.9588,  0.9398,  0.6649, -0.5753, -0.6364, -0.6332,\n",
       "                      -0.3915,  0.0495, -0.1361, -0.4175,  0.2237, -0.7210, -0.4157, -0.2673,\n",
       "                      -0.0879,  0.5704, -0.6007,  0.0285,  0.1848, -0.9071,  0.2151, -0.6590,\n",
       "                      -0.8699,  0.8978,  0.9313,  0.6168, -0.3908, -0.8047,  0.3685, -0.1197,\n",
       "                      -0.7559, -0.0096, -0.9312,  0.8186, -0.4824,  0.3250, -0.3766,  0.0401])),\n",
       "             ('2.weights', tensor([36.9522, 38.0045]))])"
      ]
     },
     "execution_count": 7,
     "metadata": {},
     "output_type": "execute_result"
    }
   ],
   "source": [
    "encoding = encoding_layer()\n",
    "exp_val = exp_val_layer()\n",
    "model = torch.nn.Sequential(encoding,\n",
    "                            quantum_nn,\n",
    "                            exp_val)\n",
    "\n",
    "model.state_dict()"
   ]
  },
  {
   "cell_type": "code",
   "execution_count": 8,
   "metadata": {},
   "outputs": [],
   "source": [
    "# Decomment and execute the following lines to create a fully classical neural network, instead of the quantum one\n",
    "\n",
    "model = torch.nn.Sequential(torch.nn.Linear(4,32),\n",
    "                            torch.nn.ELU(),\n",
    "                            torch.nn.Linear(32,32),\n",
    "                            torch.nn.ELU(),\n",
    "                            torch.nn.Linear(32,2))\n",
    "\n",
    "# Print the weights of the classical neural network\n",
    "model.state_dict()\n",
    "\n",
    "# Print the total number of weights in the classical neural network\n",
    "pytorch_total_params = sum(p.numel() for p in model.parameters())"
   ]
  },
  {
   "cell_type": "code",
   "execution_count": 1,
   "metadata": {},
   "outputs": [],
   "source": [
    "import gymnasium as gym"
   ]
  },
  {
   "cell_type": "code",
   "execution_count": 2,
   "metadata": {},
   "outputs": [],
   "source": [
    "env = gym.make(\"CartPole-v1\", render_mode = \"human\")\n",
    "input_shape = [4] # == env.observation_space.shape\n",
    "n_outputs = 2 # == env.action_space.n"
   ]
  },
  {
   "cell_type": "code",
   "execution_count": 3,
   "metadata": {},
   "outputs": [
    {
     "data": {
      "text/plain": [
       "(array([-0.01641314, -0.1691247 ,  0.02483817,  0.3211866 ], dtype=float32),\n",
       " 1.0,\n",
       " False,\n",
       " False,\n",
       " {})"
      ]
     },
     "execution_count": 3,
     "metadata": {},
     "output_type": "execute_result"
    },
    {
     "ename": "",
     "evalue": "",
     "output_type": "error",
     "traceback": [
      "\u001b[1;31mThe Kernel crashed while executing code in the current cell or a previous cell. \n",
      "\u001b[1;31mPlease review the code in the cell(s) to identify a possible cause of the failure. \n",
      "\u001b[1;31mClick <a href='https://aka.ms/vscodeJupyterKernelCrash'>here</a> for more info. \n",
      "\u001b[1;31mView Jupyter <a href='command:jupyter.viewOutput'>log</a> for further details."
     ]
    }
   ],
   "source": [
    "env.reset()\n",
    "env.step(0)"
   ]
  },
  {
   "cell_type": "markdown",
   "metadata": {},
   "source": [
    "training"
   ]
  },
  {
   "cell_type": "code",
   "execution_count": 10,
   "metadata": {},
   "outputs": [],
   "source": [
    "from collections import deque\n",
    "\n",
    "replay_memory = deque(maxlen=2000)"
   ]
  },
  {
   "cell_type": "code",
   "execution_count": 11,
   "metadata": {},
   "outputs": [],
   "source": [
    "batch_size = 16\n",
    "discount_rate = 0.99\n",
    "optimizer = Adam(model.parameters(), lr=1e-2)"
   ]
  },
  {
   "cell_type": "code",
   "execution_count": 12,
   "metadata": {},
   "outputs": [],
   "source": [
    "def epsilon_greedy_policy(state, epsilon=0):\n",
    "    \"\"\"Manages the transition from the *exploration* to *exploitation* phase\"\"\"\n",
    "    if np.random.rand() < epsilon:\n",
    "        return np.random.randint(n_outputs)\n",
    "    else:\n",
    "        with torch.no_grad():\n",
    "            Q_values = model(Tensor(state)).numpy()\n",
    "        return np.argmax(Q_values[0])\n",
    "    \n",
    "def sample_experiences(batch_size):\n",
    "    \"\"\"Sample some past experiences from the replay memory\"\"\"\n",
    "    indices = np.random.randint(len(replay_memory), size=batch_size)\n",
    "    batch = [replay_memory[index] for index in indices]\n",
    "    states, actions, rewards, next_states, dones = [\n",
    "        np.array([experience[field_index] for experience in batch])\n",
    "        for field_index in range(5)]\n",
    "    return states, actions, rewards, next_states, dones\n",
    "\n",
    "def play_one_step(env, state, epsilon):\n",
    "    \"\"\"Perform one action in the environment and register the state of the system\"\"\"\n",
    "    action = epsilon_greedy_policy(state, epsilon)\n",
    "    next_state, reward, done, truncated, info = env.step(action)\n",
    "    replay_memory.append((state, action, reward, next_state, done))\n",
    "    return next_state, reward, done, info\n",
    "\n",
    "def sequential_training_step(batch_size):\n",
    "    \"\"\"\n",
    "    Actual training routine. Implements the Deep Q-Learning algorithm.\n",
    "    \n",
    "    This implementation evaluates individual losses sequentially instead of using batches. \n",
    "    This is due to an issue in the TorchConnector, which yields vanishing gradients if it \n",
    "    is called with a batch of data (see https://github.com/Qiskit/qiskit-machine-learning/issues/100).\n",
    "    \n",
    "    Use this training for the quantum model. If using the classical model, you can use indifferently \n",
    "    this implementation or the batched one below. \n",
    "    \"\"\"\n",
    "    \n",
    "    # Sample past experiences \n",
    "    experiences = sample_experiences(batch_size)\n",
    "    states, actions, rewards, next_states, dones = experiences\n",
    "    \n",
    "    # Evaluates Target Q-values\n",
    "    with torch.no_grad():\n",
    "        next_Q_values = model(Tensor(next_states)).numpy()\n",
    "    max_next_Q_values = np.max(next_Q_values, axis=1)\n",
    "    target_Q_values = (rewards + (1 - dones) * discount_rate * max_next_Q_values)\n",
    "    \n",
    "    # Accumulate Loss sequentially (if batching data, gradients of the parameters are vanishing)\n",
    "    loss = 0.\n",
    "    for j, state in enumerate(states):\n",
    "        single_Q_value = model(Tensor(state))\n",
    "        Q_value = single_Q_value[actions[j]]\n",
    "        loss += (target_Q_values[j] - Q_value)**2\n",
    "    \n",
    "    # Evaluate the gradients and update the parameters \n",
    "    optimizer.zero_grad()\n",
    "    loss.backward()\n",
    "    optimizer.step()\n",
    "\n",
    "def training_step(batch_size):\n",
    "    \"\"\"\n",
    "    This is exactly the same function as sequential_training_step, except that it \n",
    "    evaluates loss with batch of data, instead of using a for loop. \n",
    "    \n",
    "    Can use this if training the classical model.\n",
    "    \"\"\"\n",
    "    \n",
    "    # Sample past experiences\n",
    "    experiences = sample_experiences(batch_size)\n",
    "    states, actions, rewards, next_states, dones = experiences\n",
    "    \n",
    "    # Evaluate Target Q-values\n",
    "    with torch.no_grad():\n",
    "        next_Q_values = model(Tensor(next_states)).numpy()\n",
    "    max_next_Q_values = np.max(next_Q_values, axis=1)\n",
    "    target_Q_values = (rewards +\n",
    "                       (1 - dones) * discount_rate * max_next_Q_values)\n",
    "    target_Q_values = target_Q_values.reshape(-1, 1)\n",
    "    mask = torch.nn.functional.one_hot(Tensor(actions).long(), n_outputs)\n",
    "    \n",
    "    # Evaluate the loss\n",
    "    all_Q_values = model(Tensor(states))\n",
    "    Q_values = torch.sum(all_Q_values * mask, dim=1, keepdims=True)\n",
    "    loss = loss_fn(Tensor(target_Q_values), Q_values)\n",
    "    \n",
    "    # Evaluate the gradients and update the parameters \n",
    "    optimizer.zero_grad()\n",
    "    loss.backward()\n",
    "    optimizer.step()"
   ]
  },
  {
   "cell_type": "code",
   "execution_count": 21,
   "metadata": {},
   "outputs": [
    {
     "name": "stdout",
     "output_type": "stream",
     "text": [
      "Episode: 15, Steps : 13, eps: 0.990"
     ]
    },
    {
     "ename": "ValueError",
     "evalue": "expected sequence of length 4 at dim 1 (got 0)",
     "output_type": "error",
     "traceback": [
      "\u001b[0;31m---------------------------------------------------------------------------\u001b[0m",
      "\u001b[0;31mValueError\u001b[0m                                Traceback (most recent call last)",
      "Cell \u001b[0;32mIn[21], line 15\u001b[0m\n\u001b[1;32m     11\u001b[0m \u001b[38;5;28;01mfor\u001b[39;00m step \u001b[38;5;129;01min\u001b[39;00m \u001b[38;5;28mrange\u001b[39m(\u001b[38;5;241m200\u001b[39m):\n\u001b[1;32m     12\u001b[0m     \n\u001b[1;32m     13\u001b[0m     \u001b[38;5;66;03m# Manages the transition from exploration to exploitation\u001b[39;00m\n\u001b[1;32m     14\u001b[0m     epsilon \u001b[38;5;241m=\u001b[39m \u001b[38;5;28mmax\u001b[39m(\u001b[38;5;241m1\u001b[39m \u001b[38;5;241m-\u001b[39m episode \u001b[38;5;241m/\u001b[39m \u001b[38;5;241m1500\u001b[39m, \u001b[38;5;241m0.01\u001b[39m)\n\u001b[0;32m---> 15\u001b[0m     obs, reward, done, info \u001b[38;5;241m=\u001b[39m \u001b[43mplay_one_step\u001b[49m\u001b[43m(\u001b[49m\u001b[43menv\u001b[49m\u001b[43m,\u001b[49m\u001b[43m \u001b[49m\u001b[43mobs\u001b[49m\u001b[43m,\u001b[49m\u001b[43m \u001b[49m\u001b[43mepsilon\u001b[49m\u001b[43m)\u001b[49m\n\u001b[1;32m     16\u001b[0m     \u001b[38;5;28;01mif\u001b[39;00m done:\n\u001b[1;32m     17\u001b[0m         \u001b[38;5;28;01mbreak\u001b[39;00m\n",
      "Cell \u001b[0;32mIn[12], line 21\u001b[0m, in \u001b[0;36mplay_one_step\u001b[0;34m(env, state, epsilon)\u001b[0m\n\u001b[1;32m     19\u001b[0m \u001b[38;5;28;01mdef\u001b[39;00m \u001b[38;5;21mplay_one_step\u001b[39m(env, state, epsilon):\n\u001b[1;32m     20\u001b[0m \u001b[38;5;250m    \u001b[39m\u001b[38;5;124;03m\"\"\"Perform one action in the environment and register the state of the system\"\"\"\u001b[39;00m\n\u001b[0;32m---> 21\u001b[0m     action \u001b[38;5;241m=\u001b[39m \u001b[43mepsilon_greedy_policy\u001b[49m\u001b[43m(\u001b[49m\u001b[43mstate\u001b[49m\u001b[43m,\u001b[49m\u001b[43m \u001b[49m\u001b[43mepsilon\u001b[49m\u001b[43m)\u001b[49m\n\u001b[1;32m     22\u001b[0m     next_state, reward, done, truncated, info \u001b[38;5;241m=\u001b[39m env\u001b[38;5;241m.\u001b[39mstep(action)\n\u001b[1;32m     23\u001b[0m     replay_memory\u001b[38;5;241m.\u001b[39mappend((state, action, reward, next_state, done))\n",
      "Cell \u001b[0;32mIn[12], line 7\u001b[0m, in \u001b[0;36mepsilon_greedy_policy\u001b[0;34m(state, epsilon)\u001b[0m\n\u001b[1;32m      5\u001b[0m \u001b[38;5;28;01melse\u001b[39;00m:\n\u001b[1;32m      6\u001b[0m     \u001b[38;5;28;01mwith\u001b[39;00m torch\u001b[38;5;241m.\u001b[39mno_grad():\n\u001b[0;32m----> 7\u001b[0m         Q_values \u001b[38;5;241m=\u001b[39m model(\u001b[43mTensor\u001b[49m\u001b[43m(\u001b[49m\u001b[43mstate\u001b[49m\u001b[43m)\u001b[49m)\u001b[38;5;241m.\u001b[39mnumpy()\n\u001b[1;32m      8\u001b[0m     \u001b[38;5;28;01mreturn\u001b[39;00m np\u001b[38;5;241m.\u001b[39margmax(Q_values[\u001b[38;5;241m0\u001b[39m])\n",
      "\u001b[0;31mValueError\u001b[0m: expected sequence of length 4 at dim 1 (got 0)"
     ]
    }
   ],
   "source": [
    "rewards = [] \n",
    "best_score = 0\n",
    "\n",
    "# We let the agent train for 2000 episodes\n",
    "for episode in range(2000):\n",
    "    \n",
    "    # Run enviroment simulation\n",
    "    obs = env.reset()  \n",
    "    \n",
    "    # 200 is the target score for considering the environment solved\n",
    "    for step in range(200):\n",
    "        \n",
    "        # Manages the transition from exploration to exploitation\n",
    "        epsilon = max(1 - episode / 1500, 0.01)\n",
    "        obs, reward, done, info = play_one_step(env, obs, epsilon)\n",
    "        if done:\n",
    "            break\n",
    "    rewards.append(step)\n",
    "    \n",
    "    # Saving best agent\n",
    "    if step >= best_score:\n",
    "        torch.save(model.state_dict(), './new_model_best_weights.pth') # Save best weights\n",
    "        best_score = step\n",
    "        \n",
    "    print(\"\\rEpisode: {}, Steps : {}, eps: {:.3f}\".format(episode, step + 1, epsilon), end=\"\")\n",
    "    \n",
    "    # Start training only after some exploration experiences  \n",
    "    if episode > 20:\n",
    "        sequential_training_step(batch_size)"
   ]
  },
  {
   "cell_type": "code",
   "execution_count": 16,
   "metadata": {},
   "outputs": [
    {
     "data": {
      "text/plain": [
       "OrderedDict([('0.weight',\n",
       "              tensor([[-0.2476,  0.2987,  0.4597, -0.3711],\n",
       "                      [ 0.4488,  0.1132,  0.3495,  0.0481],\n",
       "                      [ 0.2578, -0.0506,  0.3656,  0.0539],\n",
       "                      [-0.2147,  0.1374, -0.2330, -0.0675],\n",
       "                      [-0.1935,  0.3481, -0.4128, -0.2502],\n",
       "                      [-0.1218, -0.2893,  0.0420, -0.5046],\n",
       "                      [ 0.4603, -0.4064,  0.3661,  0.0647],\n",
       "                      [-0.1718,  0.2926,  0.0956,  0.4219],\n",
       "                      [ 0.0352, -0.1686,  0.1159, -0.1256],\n",
       "                      [ 0.1961,  0.4266,  0.3078, -0.1990],\n",
       "                      [ 0.3043,  0.1090,  0.2339, -0.3243],\n",
       "                      [-0.4849, -0.1753, -0.4007,  0.3918],\n",
       "                      [ 0.1605,  0.2193,  0.1548, -0.0209],\n",
       "                      [ 0.4016, -0.3361,  0.0117, -0.3604],\n",
       "                      [ 0.1345, -0.1811,  0.1344, -0.0964],\n",
       "                      [ 0.3988, -0.3050, -0.3172, -0.2903],\n",
       "                      [ 0.4645,  0.1835,  0.4612, -0.4304],\n",
       "                      [-0.4761, -0.3804, -0.3167,  0.1915],\n",
       "                      [ 0.1672,  0.3968, -0.2384, -0.3220],\n",
       "                      [ 0.2849, -0.1921,  0.3223, -0.1275],\n",
       "                      [ 0.2679, -0.3976, -0.2711,  0.1603],\n",
       "                      [ 0.1001, -0.1316,  0.3022,  0.3438],\n",
       "                      [-0.3517, -0.2476,  0.4382, -0.1887],\n",
       "                      [-0.1699, -0.4643, -0.3062,  0.1050],\n",
       "                      [-0.0583, -0.3670, -0.0074, -0.3382],\n",
       "                      [-0.4190, -0.2834, -0.4570, -0.3113],\n",
       "                      [ 0.4816,  0.0830,  0.1356, -0.4555],\n",
       "                      [-0.3407, -0.1622,  0.0981, -0.4437],\n",
       "                      [-0.1998, -0.2872, -0.0025, -0.1982],\n",
       "                      [-0.0528, -0.3468, -0.3621, -0.2848],\n",
       "                      [-0.1608, -0.3763,  0.3997, -0.1176],\n",
       "                      [ 0.4213,  0.1497, -0.4419,  0.3519]])),\n",
       "             ('0.bias',\n",
       "              tensor([-0.1556, -0.1719, -0.3966, -0.4884,  0.1621, -0.0927,  0.2145, -0.4303,\n",
       "                       0.3605, -0.3868, -0.0663,  0.1242,  0.2779,  0.4235,  0.4491, -0.4165,\n",
       "                       0.1457, -0.1967, -0.0748, -0.3676,  0.4516, -0.3860,  0.2872,  0.1957,\n",
       "                       0.1817, -0.2737,  0.4382,  0.0969,  0.0839, -0.4456,  0.2297, -0.0950])),\n",
       "             ('2.weight',\n",
       "              tensor([[-0.0896,  0.1592,  0.0473,  ..., -0.0312, -0.0014, -0.0027],\n",
       "                      [ 0.0507,  0.0319, -0.1774,  ...,  0.0459, -0.1034, -0.1865],\n",
       "                      [-0.1512,  0.1131,  0.0664,  ...,  0.0613,  0.1461, -0.1319],\n",
       "                      ...,\n",
       "                      [ 0.1522,  0.0307, -0.0865,  ..., -0.0837,  0.1253, -0.1500],\n",
       "                      [ 0.0686,  0.1961,  0.1083,  ...,  0.0465,  0.1503,  0.1407],\n",
       "                      [-0.1288,  0.1422, -0.0051,  ..., -0.0598,  0.0475,  0.0986]])),\n",
       "             ('2.bias',\n",
       "              tensor([-0.0665,  0.1594,  0.1583, -0.1307, -0.1165, -0.1498, -0.0769, -0.0523,\n",
       "                      -0.0322, -0.0623, -0.0695, -0.0364, -0.0690,  0.1916, -0.0855, -0.1459,\n",
       "                       0.0926,  0.0098,  0.1154,  0.1304,  0.1434, -0.1109,  0.1336,  0.1679,\n",
       "                      -0.1071,  0.1823,  0.1127, -0.0142,  0.0653, -0.0818, -0.1740,  0.0638])),\n",
       "             ('4.weight',\n",
       "              tensor([[ 0.0569, -0.0959,  0.1050, -0.1557,  0.1325,  0.1910,  0.0680, -0.0920,\n",
       "                        0.0671,  0.0102,  0.0299,  0.0435,  0.1156, -0.0581, -0.0596,  0.0284,\n",
       "                       -0.0008,  0.1623, -0.0867,  0.0125,  0.0482, -0.0670,  0.1404,  0.0095,\n",
       "                       -0.1830,  0.0006, -0.0714,  0.0368, -0.0396, -0.1952, -0.0517, -0.0286],\n",
       "                      [-0.0457,  0.1824, -0.0191,  0.1240,  0.0296, -0.1296,  0.0613,  0.1399,\n",
       "                       -0.1348, -0.1340,  0.1537,  0.1224, -0.1177,  0.1250, -0.0426, -0.1919,\n",
       "                       -0.0055,  0.0768, -0.0422,  0.0810, -0.1312,  0.1047,  0.1707,  0.0795,\n",
       "                        0.0101,  0.0782, -0.1086, -0.0246, -0.0366, -0.1183, -0.1506,  0.1019]])),\n",
       "             ('4.bias', tensor([ 0.1399, -0.1409]))])"
      ]
     },
     "execution_count": 16,
     "metadata": {},
     "output_type": "execute_result"
    }
   ],
   "source": [
    "model.state_dict()"
   ]
  },
  {
   "cell_type": "code",
   "execution_count": 17,
   "metadata": {},
   "outputs": [
    {
     "data": {
      "image/png": "[encoded data removed]",
      "text/plain": [
       "<Figure size 800x400 with 1 Axes>"
      ]
     },
     "metadata": {},
     "output_type": "display_data"
    }
   ],
   "source": [
    "plt.figure(figsize=(8, 4))\n",
    "plt.plot(rewards)\n",
    "plt.xlabel(\"Episode\", fontsize=14)\n",
    "plt.ylabel(\"Sum of rewards\", fontsize=14)\n",
    "plt.show()"
   ]
  },
  {
   "cell_type": "code",
   "execution_count": 18,
   "metadata": {},
   "outputs": [
    {
     "ename": "FileNotFoundError",
     "evalue": "training_rewards2.txt not found.",
     "output_type": "error",
     "traceback": [
      "\u001b[0;31m---------------------------------------------------------------------------\u001b[0m",
      "\u001b[0;31mFileNotFoundError\u001b[0m                         Traceback (most recent call last)",
      "Cell \u001b[0;32mIn[18], line 6\u001b[0m\n\u001b[1;32m      3\u001b[0m sns\u001b[38;5;241m.\u001b[39mset_theme()\n\u001b[1;32m      5\u001b[0m \u001b[38;5;66;03m# This file contains the sum of rewards from a previous successfull training run\u001b[39;00m\n\u001b[0;32m----> 6\u001b[0m rewards_history \u001b[38;5;241m=\u001b[39m \u001b[43mnp\u001b[49m\u001b[38;5;241;43m.\u001b[39;49m\u001b[43mloadtxt\u001b[49m\u001b[43m(\u001b[49m\u001b[38;5;124;43m\"\u001b[39;49m\u001b[38;5;124;43mtraining_rewards2.txt\u001b[39;49m\u001b[38;5;124;43m\"\u001b[39;49m\u001b[43m)\u001b[49m \u001b[38;5;241m+\u001b[39m \u001b[38;5;241m1\u001b[39m\n\u001b[1;32m      8\u001b[0m cmap \u001b[38;5;241m=\u001b[39m plt\u001b[38;5;241m.\u001b[39mget_cmap(\u001b[38;5;124m'\u001b[39m\u001b[38;5;124mtab20c\u001b[39m\u001b[38;5;124m'\u001b[39m)\n\u001b[1;32m     10\u001b[0m fig \u001b[38;5;241m=\u001b[39m plt\u001b[38;5;241m.\u001b[39mfigure(figsize\u001b[38;5;241m=\u001b[39m(\u001b[38;5;241m8\u001b[39m,\u001b[38;5;241m5\u001b[39m))\n",
      "File \u001b[0;32m~/projects/.venv/lib/python3.10/site-packages/numpy/lib/npyio.py:1373\u001b[0m, in \u001b[0;36mloadtxt\u001b[0;34m(fname, dtype, comments, delimiter, converters, skiprows, usecols, unpack, ndmin, encoding, max_rows, quotechar, like)\u001b[0m\n\u001b[1;32m   1370\u001b[0m \u001b[38;5;28;01mif\u001b[39;00m \u001b[38;5;28misinstance\u001b[39m(delimiter, \u001b[38;5;28mbytes\u001b[39m):\n\u001b[1;32m   1371\u001b[0m     delimiter \u001b[38;5;241m=\u001b[39m delimiter\u001b[38;5;241m.\u001b[39mdecode(\u001b[38;5;124m'\u001b[39m\u001b[38;5;124mlatin1\u001b[39m\u001b[38;5;124m'\u001b[39m)\n\u001b[0;32m-> 1373\u001b[0m arr \u001b[38;5;241m=\u001b[39m \u001b[43m_read\u001b[49m\u001b[43m(\u001b[49m\u001b[43mfname\u001b[49m\u001b[43m,\u001b[49m\u001b[43m \u001b[49m\u001b[43mdtype\u001b[49m\u001b[38;5;241;43m=\u001b[39;49m\u001b[43mdtype\u001b[49m\u001b[43m,\u001b[49m\u001b[43m \u001b[49m\u001b[43mcomment\u001b[49m\u001b[38;5;241;43m=\u001b[39;49m\u001b[43mcomment\u001b[49m\u001b[43m,\u001b[49m\u001b[43m \u001b[49m\u001b[43mdelimiter\u001b[49m\u001b[38;5;241;43m=\u001b[39;49m\u001b[43mdelimiter\u001b[49m\u001b[43m,\u001b[49m\n\u001b[1;32m   1374\u001b[0m \u001b[43m            \u001b[49m\u001b[43mconverters\u001b[49m\u001b[38;5;241;43m=\u001b[39;49m\u001b[43mconverters\u001b[49m\u001b[43m,\u001b[49m\u001b[43m \u001b[49m\u001b[43mskiplines\u001b[49m\u001b[38;5;241;43m=\u001b[39;49m\u001b[43mskiprows\u001b[49m\u001b[43m,\u001b[49m\u001b[43m \u001b[49m\u001b[43musecols\u001b[49m\u001b[38;5;241;43m=\u001b[39;49m\u001b[43musecols\u001b[49m\u001b[43m,\u001b[49m\n\u001b[1;32m   1375\u001b[0m \u001b[43m            \u001b[49m\u001b[43munpack\u001b[49m\u001b[38;5;241;43m=\u001b[39;49m\u001b[43munpack\u001b[49m\u001b[43m,\u001b[49m\u001b[43m \u001b[49m\u001b[43mndmin\u001b[49m\u001b[38;5;241;43m=\u001b[39;49m\u001b[43mndmin\u001b[49m\u001b[43m,\u001b[49m\u001b[43m \u001b[49m\u001b[43mencoding\u001b[49m\u001b[38;5;241;43m=\u001b[39;49m\u001b[43mencoding\u001b[49m\u001b[43m,\u001b[49m\n\u001b[1;32m   1376\u001b[0m \u001b[43m            \u001b[49m\u001b[43mmax_rows\u001b[49m\u001b[38;5;241;43m=\u001b[39;49m\u001b[43mmax_rows\u001b[49m\u001b[43m,\u001b[49m\u001b[43m \u001b[49m\u001b[43mquote\u001b[49m\u001b[38;5;241;43m=\u001b[39;49m\u001b[43mquotechar\u001b[49m\u001b[43m)\u001b[49m\n\u001b[1;32m   1378\u001b[0m \u001b[38;5;28;01mreturn\u001b[39;00m arr\n",
      "File \u001b[0;32m~/projects/.venv/lib/python3.10/site-packages/numpy/lib/npyio.py:992\u001b[0m, in \u001b[0;36m_read\u001b[0;34m(fname, delimiter, comment, quote, imaginary_unit, usecols, skiplines, max_rows, converters, ndmin, unpack, dtype, encoding)\u001b[0m\n\u001b[1;32m    990\u001b[0m     fname \u001b[38;5;241m=\u001b[39m os\u001b[38;5;241m.\u001b[39mfspath(fname)\n\u001b[1;32m    991\u001b[0m \u001b[38;5;28;01mif\u001b[39;00m \u001b[38;5;28misinstance\u001b[39m(fname, \u001b[38;5;28mstr\u001b[39m):\n\u001b[0;32m--> 992\u001b[0m     fh \u001b[38;5;241m=\u001b[39m \u001b[43mnp\u001b[49m\u001b[38;5;241;43m.\u001b[39;49m\u001b[43mlib\u001b[49m\u001b[38;5;241;43m.\u001b[39;49m\u001b[43m_datasource\u001b[49m\u001b[38;5;241;43m.\u001b[39;49m\u001b[43mopen\u001b[49m\u001b[43m(\u001b[49m\u001b[43mfname\u001b[49m\u001b[43m,\u001b[49m\u001b[43m \u001b[49m\u001b[38;5;124;43m'\u001b[39;49m\u001b[38;5;124;43mrt\u001b[39;49m\u001b[38;5;124;43m'\u001b[39;49m\u001b[43m,\u001b[49m\u001b[43m \u001b[49m\u001b[43mencoding\u001b[49m\u001b[38;5;241;43m=\u001b[39;49m\u001b[43mencoding\u001b[49m\u001b[43m)\u001b[49m\n\u001b[1;32m    993\u001b[0m     \u001b[38;5;28;01mif\u001b[39;00m encoding \u001b[38;5;129;01mis\u001b[39;00m \u001b[38;5;28;01mNone\u001b[39;00m:\n\u001b[1;32m    994\u001b[0m         encoding \u001b[38;5;241m=\u001b[39m \u001b[38;5;28mgetattr\u001b[39m(fh, \u001b[38;5;124m'\u001b[39m\u001b[38;5;124mencoding\u001b[39m\u001b[38;5;124m'\u001b[39m, \u001b[38;5;124m'\u001b[39m\u001b[38;5;124mlatin1\u001b[39m\u001b[38;5;124m'\u001b[39m)\n",
      "File \u001b[0;32m~/projects/.venv/lib/python3.10/site-packages/numpy/lib/_datasource.py:193\u001b[0m, in \u001b[0;36mopen\u001b[0;34m(path, mode, destpath, encoding, newline)\u001b[0m\n\u001b[1;32m    156\u001b[0m \u001b[38;5;250m\u001b[39m\u001b[38;5;124;03m\"\"\"\u001b[39;00m\n\u001b[1;32m    157\u001b[0m \u001b[38;5;124;03mOpen `path` with `mode` and return the file object.\u001b[39;00m\n\u001b[1;32m    158\u001b[0m \n\u001b[0;32m   (...)\u001b[0m\n\u001b[1;32m    189\u001b[0m \n\u001b[1;32m    190\u001b[0m \u001b[38;5;124;03m\"\"\"\u001b[39;00m\n\u001b[1;32m    192\u001b[0m ds \u001b[38;5;241m=\u001b[39m DataSource(destpath)\n\u001b[0;32m--> 193\u001b[0m \u001b[38;5;28;01mreturn\u001b[39;00m \u001b[43mds\u001b[49m\u001b[38;5;241;43m.\u001b[39;49m\u001b[43mopen\u001b[49m\u001b[43m(\u001b[49m\u001b[43mpath\u001b[49m\u001b[43m,\u001b[49m\u001b[43m \u001b[49m\u001b[43mmode\u001b[49m\u001b[43m,\u001b[49m\u001b[43m \u001b[49m\u001b[43mencoding\u001b[49m\u001b[38;5;241;43m=\u001b[39;49m\u001b[43mencoding\u001b[49m\u001b[43m,\u001b[49m\u001b[43m \u001b[49m\u001b[43mnewline\u001b[49m\u001b[38;5;241;43m=\u001b[39;49m\u001b[43mnewline\u001b[49m\u001b[43m)\u001b[49m\n",
      "File \u001b[0;32m~/projects/.venv/lib/python3.10/site-packages/numpy/lib/_datasource.py:533\u001b[0m, in \u001b[0;36mDataSource.open\u001b[0;34m(self, path, mode, encoding, newline)\u001b[0m\n\u001b[1;32m    530\u001b[0m     \u001b[38;5;28;01mreturn\u001b[39;00m _file_openers[ext](found, mode\u001b[38;5;241m=\u001b[39mmode,\n\u001b[1;32m    531\u001b[0m                               encoding\u001b[38;5;241m=\u001b[39mencoding, newline\u001b[38;5;241m=\u001b[39mnewline)\n\u001b[1;32m    532\u001b[0m \u001b[38;5;28;01melse\u001b[39;00m:\n\u001b[0;32m--> 533\u001b[0m     \u001b[38;5;28;01mraise\u001b[39;00m \u001b[38;5;167;01mFileNotFoundError\u001b[39;00m(\u001b[38;5;124mf\u001b[39m\u001b[38;5;124m\"\u001b[39m\u001b[38;5;132;01m{\u001b[39;00mpath\u001b[38;5;132;01m}\u001b[39;00m\u001b[38;5;124m not found.\u001b[39m\u001b[38;5;124m\"\u001b[39m)\n",
      "\u001b[0;31mFileNotFoundError\u001b[0m: training_rewards2.txt not found."
     ]
    }
   ],
   "source": [
    "import matplotlib.pyplot as plt\n",
    "import seaborn as sns\n",
    "sns.set_theme()\n",
    "\n",
    "# This file contains the sum of rewards from a previous successfull training run\n",
    "rewards_history = np.loadtxt(\"training_rewards2.txt\") + 1\n",
    "\n",
    "cmap = plt.get_cmap('tab20c')\n",
    "\n",
    "fig = plt.figure(figsize=(8,5))\n",
    "plt.axhline([200], ls = 'dashed', c=cmap(9))\n",
    "plt.text(-50,190, s='Max reward', c=cmap(8))\n",
    "\n",
    "plt.text(-50,100, s='Exploration\\nphase', c=cmap(12))\n",
    "plt.text(1100,100, s='Exploitation\\nphase', c=cmap(12))\n",
    "\n",
    "plt.plot(rewards_history, c = cmap(4))\n",
    "plt.xlabel(\"Episodes\")\n",
    "plt.ylabel(\"Final reward\")\n",
    "\n",
    "plt.tight_layout()\n",
    "plt.show()\n"
   ]
  },
  {
   "cell_type": "code",
   "execution_count": 20,
   "metadata": {},
   "outputs": [
    {
     "name": "stderr",
     "output_type": "stream",
     "text": [
      "/var/folders/tj/699by59d2xn3cxcn9yhkp4540000gn/T/ipykernel_90892/249124523.py:7: UserWarning: Creating a tensor from a list of numpy.ndarrays is extremely slow. Please consider converting the list to a single numpy.ndarray with numpy.array() before converting to a tensor. (Triggered internally at /Users/runner/work/pytorch/pytorch/pytorch/torch/csrc/utils/tensor_new.cpp:278.)\n",
      "  Q_values = model(Tensor(state)).numpy()\n"
     ]
    },
    {
     "ename": "ValueError",
     "evalue": "expected sequence of length 4 at dim 1 (got 0)",
     "output_type": "error",
     "traceback": [
      "\u001b[0;31m---------------------------------------------------------------------------\u001b[0m",
      "\u001b[0;31mValueError\u001b[0m                                Traceback (most recent call last)",
      "Cell \u001b[0;32mIn[20], line 5\u001b[0m\n\u001b[1;32m      3\u001b[0m frames \u001b[38;5;241m=\u001b[39m []\n\u001b[1;32m      4\u001b[0m \u001b[38;5;28;01mfor\u001b[39;00m step \u001b[38;5;129;01min\u001b[39;00m \u001b[38;5;28mrange\u001b[39m(\u001b[38;5;241m200\u001b[39m):\n\u001b[0;32m----> 5\u001b[0m     action \u001b[38;5;241m=\u001b[39m \u001b[43mepsilon_greedy_policy\u001b[49m\u001b[43m(\u001b[49m\u001b[43mstate\u001b[49m\u001b[43m)\u001b[49m\n\u001b[1;32m      6\u001b[0m     state, reward, done, info \u001b[38;5;241m=\u001b[39m env\u001b[38;5;241m.\u001b[39mstep(action)\n\u001b[1;32m      7\u001b[0m     \u001b[38;5;28;01mif\u001b[39;00m done:\n",
      "Cell \u001b[0;32mIn[12], line 7\u001b[0m, in \u001b[0;36mepsilon_greedy_policy\u001b[0;34m(state, epsilon)\u001b[0m\n\u001b[1;32m      5\u001b[0m \u001b[38;5;28;01melse\u001b[39;00m:\n\u001b[1;32m      6\u001b[0m     \u001b[38;5;28;01mwith\u001b[39;00m torch\u001b[38;5;241m.\u001b[39mno_grad():\n\u001b[0;32m----> 7\u001b[0m         Q_values \u001b[38;5;241m=\u001b[39m model(\u001b[43mTensor\u001b[49m\u001b[43m(\u001b[49m\u001b[43mstate\u001b[49m\u001b[43m)\u001b[49m)\u001b[38;5;241m.\u001b[39mnumpy()\n\u001b[1;32m      8\u001b[0m     \u001b[38;5;28;01mreturn\u001b[39;00m np\u001b[38;5;241m.\u001b[39margmax(Q_values[\u001b[38;5;241m0\u001b[39m])\n",
      "\u001b[0;31mValueError\u001b[0m: expected sequence of length 4 at dim 1 (got 0)"
     ]
    }
   ],
   "source": [
    "state = env.reset()\n",
    "\n",
    "frames = []\n",
    "for step in range(200):\n",
    "    action = epsilon_greedy_policy(state)\n",
    "    state, reward, done, info = env.step(action)\n",
    "    if done:\n",
    "        print(\"End at step:\", step)\n",
    "        break\n",
    "    img = env.render(mode=\"rgb_array\")\n",
    "    frames.append(img)\n",
    "    \n",
    "plot_animation(frames)"
   ]
  }
 ],
 "metadata": {
  "kernelspec": {
   "display_name": ".venv",
   "language": "python",
   "name": "python3"
  },
  "language_info": {
   "codemirror_mode": {
    "name": "ipython",
    "version": 3
   },
   "file_extension": ".py",
   "mimetype": "text/x-python",
   "name": "python",
   "nbconvert_exporter": "python",
   "pygments_lexer": "ipython3",
   "version": "3.10.7"
  }
 },
 "nbformat": 4,
 "nbformat_minor": 2
}
